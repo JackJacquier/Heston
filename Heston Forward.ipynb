{
 "cells": [
  {
   "cell_type": "markdown",
   "metadata": {
    "zanadu": {}
   },
   "source": [
    "# Heston model: vanilla and forward prices"
   ]
  },
  {
   "cell_type": "code",
   "execution_count": 50,
   "metadata": {
    "collapsed": false,
    "zanadu": {
     "code_type": "",
     "is_hidden": false
    }
   },
   "outputs": [],
   "source": [
    "import numpy as np\n",
    "from scipy.integrate import quad\n",
    "from scipy.optimize import bisect\n",
    "import cmath\n",
    "import matplotlib.pyplot as plt\n",
    "from math import isnan\n",
    "from scipy.stats import norm"
   ]
  },
  {
   "cell_type": "markdown",
   "metadata": {},
   "source": [
    "# The Heston model"
   ]
  },
  {
   "cell_type": "markdown",
   "metadata": {},
   "source": [
    "Recall the following option price formula for a European Call option with maturity $T$ and strike $K$:\n",
    "\\begin{align*}\n",
    "\\mathbb{E}\\left(S_T - \\mathrm{e}^{k}\\right)_+\n",
    " & = S_0\\left(\\frac{1}{2}+\\frac{1}{\\pi}\\int_{0}^{\\infty}\\Re\\left(\\frac{\\Phi_T(\\xi-\\mathrm{i})}{\\mathrm{i}\\xi\\Phi_T(-\\mathrm{i})}\n",
    " \\mathrm{e}^{-\\mathrm{i} k\\xi}\\right)\\mathrm{d} \\xi\\right)\n",
    "-K\\mathrm{e}^{-rT}\\left(\\frac{1}{2}+\\frac{1}{\\pi}\\int_{0}^{\\infty}\\Re\\left(\\frac{\\Phi_T(\\xi)}{\\mathrm{i}\\xi}\\mathrm{e}^{-\\mathrm{i} k\\xi}\\right)\\mathrm{d} \\xi\\right)\\\\\n",
    " & =: S_0 \\Pi_1 - K\\mathrm{e}^{-rT}\\Pi_2,\n",
    "\\end{align*}\n",
    "where $\\Phi_T(\\xi):=\\mathbb{E}\\left(S_T^{\\mathrm{i}\\xi}\\right)$\n",
    "is the characteristic function of the log-stock price at time $T$.\n",
    "\n",
    "\n",
    "We shall use here the slightly-rewritten expression:\n",
    "\\begin{align*}\n",
    "\\mathbb{E}\\left(S_T - K\\right)_+\n",
    " & = S_0\\left(\\frac{1}{2}+\\frac{1}{\\pi}\\int_{0}^{\\infty}\\Re\\left(\\frac{\\Phi_T(\\xi-\\mathrm{i})}{\\mathrm{i}\\xi}\n",
    " \\mathrm{e}^{-\\mathrm{i} k\\xi}\\right)\\mathrm{d} \\xi\\right)\n",
    "-K\\mathrm{e}^{-rT}\\left(\\frac{1}{2}+\\frac{1}{\\pi}\\int_{0}^{\\infty}\\Re\\left(\\frac{\\Phi_T(\\xi)}{\\mathrm{i}\\xi}\\mathrm{e}^{-\\mathrm{i} k\\xi}\\right)\\mathrm{d} \\xi\\right)\\\\\n",
    " & =: S_0 \\Pi_1 - K\\mathrm{e}^{-rT}\\Pi_2,\n",
    "\\end{align*}\n",
    "where $K:=S_0\\mathrm{e}^{k}$.\n",
    "    \n"
   ]
  },
  {
   "cell_type": "markdown",
   "metadata": {},
   "source": [
    "The characteristic function has the following form:\n",
    "$\\Phi_T(\\xi) = \\exp\\Big(C_T(\\xi) + D_T(\\xi)V_0 + \\mathrm{i}\\xi \\log(S_0)\\Big)$, where\n",
    "\\begin{align*}\n",
    "C_T(\\xi) & : = \\mathrm{i}r\\xi T + \\frac{\\kappa\\theta}{\\sigma^2}\\left\\{\\left(\\kappa-\\mathrm{i}\\rho\\sigma\\xi-d_T(\\xi)\\right)T\n",
    "- 2\\log\\left(\\frac{1-\\gamma_T(\\xi)\\mathrm{e}^{-d_T(\\xi)T}}{1-\\gamma_T(\\xi)}\\right)\\right\\},\\\\\n",
    "D_T(\\xi) & : = \\frac{\\kappa - \\mathrm{i}\\rho\\sigma\\xi - d_T(\\xi)}{\\sigma^2}\n",
    "\\left(\\frac{1-\\mathrm{e}^{-d_T(\\xi)T}}{1-\\gamma_T(\\xi)\\mathrm{e}^{-d_T(\\xi)T}}\\right),\\\\\n",
    "\\gamma_T(\\xi) & := \\frac{\\kappa - \\mathrm{i}\\rho\\sigma\\xi - d_T(\\xi)}{\\kappa - \\mathrm{i}\\rho\\sigma\\xi + d_T(\\xi)},\n",
    "\\qquad \n",
    "d_T(\\xi) := \\sqrt{(\\kappa-\\mathrm{i}\\rho\\sigma\\xi)^2 + \\sigma^2(\\mathrm{i}\\xi+\\xi^2)}.\n",
    "\\end{align*}\n"
   ]
  },
  {
   "cell_type": "markdown",
   "metadata": {},
   "source": [
    "## Black-Scholes formulae"
   ]
  },
  {
   "cell_type": "code",
   "execution_count": 51,
   "metadata": {
    "collapsed": true
   },
   "outputs": [],
   "source": [
    "def phi(x): ## Gaussian density\n",
    "    return np.exp(-x*x/2.)/np.sqrt(2*np.pi)\n",
    "\n",
    "#### Black Sholes Vega\n",
    "def BlackScholesVegaCore(DF,F,X,T,v):\n",
    "    vsqrt=v*np.sqrt(T)\n",
    "    d1 = (np.log(F/X)+(vsqrt*vsqrt/2.))/vsqrt\n",
    "    return F*phi(d1)*np.sqrt(T)/DF\n",
    "\n",
    "#### Black Sholes Function\n",
    "def BlackScholesCore(CallPutFlag,DF,F,X,T,v):\n",
    "    ## DF: discount factor\n",
    "    ## F: Forward\n",
    "    ## X: strike\n",
    "    vsqrt=v*np.sqrt(T)\n",
    "    d1 = (np.log(F/X)+(vsqrt*vsqrt/2.))/vsqrt\n",
    "    d2 = d1-vsqrt\n",
    "    if CallPutFlag:\n",
    "        return DF*(F*norm.cdf(d1)-X*norm.cdf(d2))\n",
    "    else:\n",
    "        return DF*(X*norm.cdf(-d2)-F*norm.cdf(-d1))\n",
    "    \n",
    "##  Black-Scholes Pricing Function\n",
    "def BlackScholes(CallPutFlag,S,X,T,r,d,v):\n",
    "    ## r, d: continuous interest rate and dividend\n",
    "    return BlackScholesCore(CallPutFlag,np.exp(-r*T),np.exp((r-d)*T)*S,X,T,v)"
   ]
  },
  {
   "cell_type": "markdown",
   "metadata": {},
   "source": [
    "# Pricing Vanilla options"
   ]
  },
  {
   "cell_type": "code",
   "execution_count": 52,
   "metadata": {
    "collapsed": true
   },
   "outputs": [],
   "source": [
    "def Heston_P_Value(hestonParams,r,T,s0,K,typ):\n",
    "    kappa, theta, sigma, rho, v0 = hestonParams\n",
    "    return 0.5+(1./np.pi)*quad(lambda xi: Int_Function_1(xi,kappa,theta, sigma,rho,v0,r,T,s0,K,typ),0.,500.)[0]\n",
    "\n",
    "def Int_Function_1(xi,kappa,theta,sigma,rho,v0,r,T,s0,K,typ):\n",
    "    return (cmath.e**(-1j*xi*np.log(K))*Int_Function_2(xi,kappa,theta,sigma,rho,v0,r,T,s0,typ)/(1j*xi)).real\n",
    "\n",
    "def Int_Function_2(xi,kappa,theta,sigma,rho,v0,r,T,s0,typ):\n",
    "    if typ == 1:\n",
    "        w = 1.\n",
    "        b = kappa - rho*sigma\n",
    "    else:\n",
    "        w = -1.\n",
    "        b = kappa\n",
    "    ixi = 1j*xi\n",
    "    d = cmath.sqrt((rho*sigma*ixi-b)*(rho*sigma*ixi-b) - sigma*sigma*(w*ixi-xi*xi))\n",
    "    g = (b-rho*sigma*ixi-d) / (b-rho*sigma*ixi+d)\n",
    "    ee = cmath.e**(-d*T)\n",
    "    C = r*ixi*T + kappa*theta/(sigma*sigma)*((b-rho*sigma*ixi-d)*T - 2.*cmath.log((1.0-g*ee)/(1.-g)))\n",
    "    D = ((b-rho*sigma*ixi-d)/(sigma*sigma))*(1.-ee)/(1.-g*ee)\n",
    "    return cmath.e**(C + D*v0 + ixi*np.log(s0))\n",
    "\n",
    "def heston_EuropeanCall(hestonParams,r,T,s0,K):\n",
    "    a = s0*Heston_P_Value(hestonParams,r,T,s0,K,1)\n",
    "    b = K*np.exp(-r*T)*Heston_P_Value(hestonParams,r,T,s0,K,2)\n",
    "    return a-b\n",
    "\n",
    "def heston_Impliedvol(hestonParams,r,T,s0,K):\n",
    "    myPrice = heston_EuropeanCall(hestonParams,r,T,s0,K)\n",
    "    ## Bisection algorithm when the Lee-Li algorithm breaks down\n",
    "    def smileMin(vol, *args):\n",
    "        K, s0, T, r, price = args\n",
    "        return price - BlackScholes(True, s0, K, T, r, 0., vol)\n",
    "    vMin = 0.000001\n",
    "    vMax = 10.\n",
    "    return bisect(smileMin, vMin, vMax, args=(K, s0, T, r, myPrice), xtol=1e-20, rtol=1e-15, full_output=False, disp=True)"
   ]
  },
  {
   "cell_type": "markdown",
   "metadata": {},
   "source": [
    "### Example"
   ]
  },
  {
   "cell_type": "code",
   "execution_count": 53,
   "metadata": {
    "collapsed": true
   },
   "outputs": [],
   "source": [
    "v0,kappa,theta,sigma,rho = 0.1, 1., 0.25, 0.3, -0.2\n",
    "hestonParams = kappa, theta, sigma, rho, v0 \n",
    "r, s0, K, T = 0., 1., 1., 3."
   ]
  },
  {
   "cell_type": "code",
   "execution_count": 54,
   "metadata": {
    "collapsed": false
   },
   "outputs": [
    {
     "name": "stdout",
     "output_type": "stream",
     "text": [
      "Call option price:  0.29762404877689647\n",
      "Implied volatility:  0.4412285751258531\n"
     ]
    }
   ],
   "source": [
    "print(\"Call option price: \", heston_EuropeanCall(hestonParams,r,T,s0,K))\n",
    "print(\"Implied volatility: \", heston_Impliedvol(hestonParams,r,T,s0,K))"
   ]
  },
  {
   "cell_type": "code",
   "execution_count": 55,
   "metadata": {
    "collapsed": false
   },
   "outputs": [
    {
     "data": {
      "image/png": "[encoded data removed]",
      "text/plain": [
       "<Figure size 1008x576 with 2 Axes>"
      ]
     },
     "metadata": {},
     "output_type": "display_data"
    }
   ],
   "source": [
    "xx = np.linspace(-1.5, 1.5, 20)\n",
    "calls = [heston_EuropeanCall(hestonParams,r,T,s0,s0*np.exp(x)) for x in xx]\n",
    "ivs = [heston_Impliedvol(hestonParams,r,T,s0,s0*np.exp(x)) for x in xx]\n",
    "\n",
    "fig = plt.figure(figsize=(14,8))\n",
    "plt.subplot(2, 2, 1)\n",
    "plt.plot(xx, calls, 'b-', label=\"Params 1\", linewidth=2)\n",
    "plt.title(\"Heston Call prices\", fontsize=12, fontweight='bold')\n",
    "plt.xlabel(u'log-moneyness', fontsize=12)\n",
    "plt.legend(loc=1)\n",
    "plt.subplot(2, 2, 2)\n",
    "plt.plot(xx, ivs, 'b-', label=\"Params 1\", linewidth=2)\n",
    "plt.title(\"Heston implied volatility\", fontsize=12, fontweight='bold')\n",
    "plt.xlabel(u'log-moneyness', fontsize=12)\n",
    "plt.legend(loc=1)\n",
    "plt.show()"
   ]
  },
  {
   "cell_type": "markdown",
   "metadata": {
    "zanadu": {}
   },
   "source": [
    "# Forward-start pricing"
   ]
  },
  {
   "cell_type": "markdown",
   "metadata": {},
   "source": [
    "We are now interested in forward-start Call otions, the value of which is given, at inception, by\n",
    "$$\n",
    "\\mathbb{E}\\left[\\left(\\frac{S_{t+\\tau}}{S_t} - K\\right)_+\\right],\n",
    "$$\n",
    "for some forward-starting date $t\\geq 0$ and some remaining maturity $\\tau\\geq 0$.\n",
    "Obviously this coincides with the vanilla option whenever $t=0$. \n",
    "The functions below are normalised with $S_0=1$."
   ]
  },
  {
   "cell_type": "markdown",
   "metadata": {
    "zanadu": {}
   },
   "source": [
    "## Forward characteristic function"
   ]
  },
  {
   "cell_type": "code",
   "execution_count": 56,
   "metadata": {
    "collapsed": false,
    "zanadu": {
     "is_hidden": false
    }
   },
   "outputs": [],
   "source": [
    "def LittleB(t, hestonParams):\n",
    "    return ((xi*xi)/(4.0*kappa))*(1. - np.exp(-kappa*t))\n",
    "    \n",
    "def d(u, hestonParams):\n",
    "    kappa, theta, xi, rho, v0 = hestonParams\n",
    "    return cmath.sqrt(((kappa - rho*xi*u)*(kappa - rho*xi*u)) + u*(1. - u)*xi*xi)\n",
    "\n",
    "def LittleGamma(u, hestonParams):\n",
    "    kappa, theta, xi, rho, v0 = hestonParams\n",
    "    dd = d(u, hestonParams)\n",
    "    return (kappa - rho*xi*u - dd)/(kappa-rho*xi*u + dd)\n",
    "\n",
    "def BigA(u, tau, hestonParams):\n",
    "    kappa, theta, xi, rho, v0 = hestonParams\n",
    "    ddd = d(u,hestonParams)\n",
    "    g = LittleGamma(u,hestonParams)\n",
    "    LL = cmath.log((1.0-g*cmath.e**(-ddd*tau))/(1.-g))\n",
    "    return ((kappa*theta)/(xi*xi))*((kappa-rho*xi*u-ddd)*tau-2.*LL)\n",
    "\n",
    "def BigB(u, tau, hestonParams):\n",
    "    kappa, theta, xi, rho, v0 = hestonParams\n",
    "    ddd = d(u,hestonParams)\n",
    "    ee = cmath.e**(-ddd*tau)\n",
    "    return (1./(xi*xi))*(kappa-rho*xi*u-ddd)*((1.-ee)/(1.-LittleGamma(u, hestonParams)*ee))\n",
    "\n",
    "def cfHestonFwd(u, t, tau, hestonParams):\n",
    "    kappa, theta, xi, rho, v0 = hestonParams\n",
    "    BBB = BigB(u, tau, hestonParams)\n",
    "    BBb = LittleB(t, hestonParams)\n",
    "    return cmath.e**(BigA(u, tau, hestonParams)+(BBB/(1.-2.*BBb*BBB))*(v0*(np.exp(-kappa*t)))-((2.*kappa*theta)/(xi*xi))*cmath.log(1.-2.*BBb*BBB))\n",
    "\n",
    "def intPhi(w, alpha, k, t, tau, hestonParams):\n",
    "    return (cmath.e**(-k*(alpha+1j*w))*cfHestonFwd(alpha+1j*w,t,tau,hestonParams)/((alpha+1j*w)*(1.0-alpha-1j*w))).real"
   ]
  },
  {
   "cell_type": "code",
   "execution_count": 57,
   "metadata": {
    "collapsed": false,
    "zanadu": {
     "code_type": "importable"
    }
   },
   "outputs": [],
   "source": [
    "def hestonForwardCallPrice(K, t, tau, hestonParams, precision=20.):\n",
    "    alpha = 0.5\n",
    "    pp = cfHestonFwd(1., t, tau, hestonParams).real\n",
    "    return (pp-K/(2.*np.pi)*quad(lambda w: intPhi(w, alpha,np.log(K),t,tau,hestonParams),-precision,precision)[0]).real\n",
    "\n",
    "def heston_Impliedvol(hestonParams,r,T,s0,K):\n",
    "    myPrice = heston_EuropeanCall(hestonParams,r,T,s0,K)\n",
    "    ## Bisection algorithm when the Lee-Li algorithm breaks down\n",
    "    def smileMin(vol, *args):\n",
    "        K, s0, T, r, price = args\n",
    "        return price - BlackScholes(True, s0, K, T, r, 0., vol)\n",
    "    vMin = 0.000001\n",
    "    vMax = 10.\n",
    "    return bisect(smileMin, vMin, vMax, args=(K, s0, T, r, myPrice), xtol=1e-20, rtol=1e-15, full_output=False, disp=True)\n",
    "\n",
    "def hestonImpliedVol_Fwd(K, t, tau,hestonParams, precision=200.):\n",
    "    myPrice = hestonForwardCallPrice(K, t, tau, hestonParams, precision)\n",
    "    def smileMin(vol, *args):\n",
    "        K, s0, tau, r, price = args\n",
    "        return price - BlackScholes(True, 1., K, tau, r, 0., vol)\n",
    "    vMin = 0.000001\n",
    "    vMax = 10.\n",
    "    return bisect(smileMin, vMin, vMax, args=(K, 1., tau, r, myPrice), xtol=1e-20, rtol=1e-15, full_output=False, disp=True)\n"
   ]
  },
  {
   "cell_type": "markdown",
   "metadata": {
    "zanadu": {}
   },
   "source": [
    "# Comparison"
   ]
  },
  {
   "cell_type": "code",
   "execution_count": 58,
   "metadata": {
    "collapsed": false,
    "zanadu": {
     "code_type": ""
    }
   },
   "outputs": [],
   "source": [
    "K, v0, kappa, theta, xi, rho = 0.7, 0.05, 2.1, 0.03, 0.1, -0.2\n",
    "t, tau = 1., 1.\n",
    "hestonParams = kappa, theta, xi, rho, v0"
   ]
  },
  {
   "cell_type": "code",
   "execution_count": 59,
   "metadata": {
    "collapsed": false
   },
   "outputs": [
    {
     "name": "stdout",
     "output_type": "stream",
     "text": [
      "Forward Call price:  0.30151947721202876\n",
      "Forward implied volatility:  0.18371308966181205\n"
     ]
    }
   ],
   "source": [
    "print(\"Forward Call price: \", hestonForwardCallPrice(K,t,tau,hestonParams, 100.))\n",
    "print(\"Forward implied volatility: \", hestonImpliedVol_Fwd(K,t,tau,hestonParams))"
   ]
  },
  {
   "cell_type": "code",
   "execution_count": 60,
   "metadata": {
    "collapsed": false,
    "zanadu": {
     "code_type": "",
     "is_hidden": false
    }
   },
   "outputs": [
    {
     "data": {
      "image/png": "[encoded data removed]",
      "text/plain": [
       "<Figure size 432x288 with 1 Axes>"
      ]
     },
     "metadata": {},
     "output_type": "display_data"
    }
   ],
   "source": [
    "KK = np.linspace(0.7, 1.3, 10)\n",
    "tt = [0.05, 0.3, 0.5, 1.]\n",
    "ivs = [heston_Impliedvol(hestonParams,r,tau,1.,K) for K in KK]\n",
    "plt.figure(figsize=(6,4))\n",
    "plt.plot(KK, ivs, 'k--', label=\"Smile\", linewidth=2)\n",
    "for t in tt:\n",
    "    ivfwds = [hestonImpliedVol_Fwd(K,t,tau,hestonParams) for K in KK]\n",
    "    plt.plot(KK, ivfwds, label=\"Forward smile, t=%.1f\" %t)\n",
    "plt.legend(loc=\"best\")\n",
    "plt.title(\"Vanilla and forward smiles for $\\tau=$ %.1f\" %tau)\n",
    "plt.show()"
   ]
  },
  {
   "cell_type": "code",
   "execution_count": 24,
   "metadata": {
    "collapsed": false,
    "zanadu": {
     "code_type": ""
    }
   },
   "outputs": [],
   "source": [
    "    "
   ]
  }
 ],
 "metadata": {
  "kernelspec": {
   "display_name": "Python 3",
   "language": "python",
   "name": "python3"
  },
  "language_info": {
   "codemirror_mode": {
    "name": "ipython",
    "version": 3
   },
   "file_extension": ".py",
   "mimetype": "text/x-python",
   "name": "python",
   "nbconvert_exporter": "python",
   "pygments_lexer": "ipython3",
   "version": "3.6.0"
  },
  "zanadu": {
   "authors": [
    "Antoine Jacquier"
   ],
   "bibliography_data": {},
   "category": "3",
   "clearance": "Internal",
   "group_name": "Imperial College",
   "md5": "1c40e1601e25226bb9768c41295a3bcf",
   "notebook_id": "5422DBB7-BC65-4AC5-97CC-14D428E112E8",
   "python_name": "hestonForward",
   "reviewer_id": null,
   "status": "WIP"
  }
 },
 "nbformat": 4,
 "nbformat_minor": 0
}

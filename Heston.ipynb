{
 "cells": [
  {
   "cell_type": "markdown",
   "metadata": {
    "zanadu": {}
   },
   "source": [
    "# Heston Pricing"
   ]
  },
  {
   "cell_type": "code",
   "execution_count": 1,
   "metadata": {
    "zanadu": {
     "code_type": "",
     "is_hidden": false
    }
   },
   "outputs": [],
   "source": [
    "from scipy.integrate import quad\n",
    "import cmath\n",
    "import numpy as np\n",
    "import matplotlib.pyplot as plt\n",
    "from math import isnan\n",
    "from scipy.optimize import bisect\n",
    "from scipy.stats import norm"
   ]
  },
  {
   "cell_type": "markdown",
   "metadata": {},
   "source": [
    "Recall the following option price formula for a European Call option with maturity $T$ and strike $K$:\n",
    "$$"
    "\\begin{align*}\n",
    "\\mathbb{E}\\left(S_T - \\mathrm{e}^{k}\\right)_+\n",
    " & = S_0\\left(\\frac{1}{2}+\\frac{1}{\\pi}\\int_{0}^{\\infty}\\Re\\left(\\frac{\\Phi_T(\\xi-\\mathrm{i})}{\\mathrm{i}\\xi\\Phi_T(-\\mathrm{i})}\n",
    " \\mathrm{e}^{-\\mathrm{i} k\\xi}\\right)\\mathrm{d} \\xi\\right)\n",
    "-K\\mathrm{e}^{-rT}\\left(\\frac{1}{2}+\\frac{1}{\\pi}\\int_{0}^{\\infty}\\Re\\left(\\frac{\\Phi_T(\\xi)}{\\mathrm{i}\\xi}\\mathrm{e}^{-\\mathrm{i} k\\xi}\\right)\\mathrm{d} \\xi\\right)\\\\\n",
    " & =: S_0 \\Pi_1 - K\\mathrm{e}^{-rT}\\Pi_2,\n",
    "\\end{align*}\n",
    "$$"
    "where $\\Phi_T(\\xi):=\\mathbb{E}\\left(S_T^{\\mathrm{i}\\xi}\\right)$\n",
    "is the characteristic function of the log-stock price at time $T$.\n",
    "\n",
    "\n",
    "We shall use here the slightly-rewritten expression:\n",
    "\\begin{align*}\n",
    "\\mathbb{E}\\left(S_T - K\\right)_+\n",
    " & = S_0\\left(\\frac{1}{2}+\\frac{1}{\\pi}\\int_{0}^{\\infty}\\Re\\left(\\frac{\\Phi_T(\\xi-\\mathrm{i})}{\\mathrm{i}\\xi}\n",
    " \\mathrm{e}^{-\\mathrm{i} k\\xi}\\right)\\mathrm{d} \\xi\\right)\n",
    "-K\\mathrm{e}^{-rT}\\left(\\frac{1}{2}+\\frac{1}{\\pi}\\int_{0}^{\\infty}\\Re\\left(\\frac{\\Phi_T(\\xi)}{\\mathrm{i}\\xi}\\mathrm{e}^{-\\mathrm{i} k\\xi}\\right)\\mathrm{d} \\xi\\right)\\\\\n",
    " & =: S_0 \\Pi_1 - K\\mathrm{e}^{-rT}\\Pi_2,\n",
    "\\end{align*}\n",
    "where $K:=S_0\\mathrm{e}^{k}$.\n",
    "    \n"
   ]
  },
  {
   "cell_type": "markdown",
   "metadata": {},
   "source": [
    "### Characteristic function, as proposed by Heston"
   ]
  },
  {
   "cell_type": "markdown",
   "metadata": {},
   "source": [
    "$\\Phi_T(\\xi) = \\exp\\Big(C_T(\\xi) + D_T(\\xi)V_0 + \\mathrm{i}\\xi \\log(S_0)\\Big)$, where\n",
    "\\begin{align*}\n",
    "C_T(\\xi) & : = \\mathrm{i}r\\xi T + \\frac{\\kappa\\theta}{\\sigma^2}\\left\\{\\left(\\kappa-\\mathrm{i}\\rho\\sigma\\xi+d_T(\\xi)\\right)T\n",
    "- 2\\log\\left(\\frac{1-\\gamma_T(\\xi)\\mathrm{e}^{d_T(\\xi)T}}{1-\\gamma_T(\\xi)}\\right)\\right\\},\\\\\n",
    "D_T(\\xi) & : = \\frac{\\kappa - \\mathrm{i}\\rho\\sigma\\xi + d_T(\\xi)}{\\sigma^2}\n",
    "\\left(\\frac{1-\\mathrm{e}^{d_T(\\xi)T}}{1-\\gamma_T(\\xi)\\mathrm{e}^{d_T(\\xi)T}}\\right),\\\\\n",
    "\\gamma_T(\\xi) & := \\frac{\\kappa-\\rho\\sigma - \\mathrm{i}\\rho\\sigma\\xi + d_T(\\xi)}\n",
    "{\\kappa-\\rho\\sigma - \\mathrm{i}\\rho\\sigma\\xi - d_T(\\xi)},\n",
    "\\qquad \n",
    "d_T(\\xi) := \\sqrt{(\\kappa-\\rho\\sigma-\\mathrm{i}\\rho\\sigma\\xi)^2 + \\sigma^2(\\mathrm{i}\\xi - \\xi^2)}.\n",
    "\\end{align*}\n",
    "Note that this characteristic function may have branch-cut issues"
   ]
  },
  {
   "cell_type": "markdown",
   "metadata": {},
   "source": [
    "### Characteristic function used in Albrecher and Gatheral"
   ]
  },
  {
   "cell_type": "markdown",
   "metadata": {},
   "source": [
    "$\\Phi_T(\\xi) = \\exp\\Big(C_T(\\xi) + D_T(\\xi)V_0 + \\mathrm{i}\\xi \\log(S_0)\\Big)$, where\n",
    "\\begin{align*}\n",
    "C_T(\\xi) & : = \\mathrm{i}r\\xi T + \\frac{\\kappa\\theta}{\\sigma^2}\\left\\{\\left(\\kappa-\\mathrm{i}\\rho\\sigma\\xi-d_T(\\xi)\\right)T\n",
    "- 2\\log\\left(\\frac{1-\\gamma_T(\\xi)\\mathrm{e}^{-d_T(\\xi)T}}{1-\\gamma_T(\\xi)}\\right)\\right\\},\\\\\n",
    "D_T(\\xi) & : = \\frac{\\kappa - \\mathrm{i}\\rho\\sigma\\xi - d_T(\\xi)}{\\sigma^2}\n",
    "\\left(\\frac{1-\\mathrm{e}^{-d_T(\\xi)T}}{1-\\gamma_T(\\xi)\\mathrm{e}^{-d_T(\\xi)T}}\\right),\\\\\n",
    "\\gamma_T(\\xi) & := \\frac{\\kappa - \\mathrm{i}\\rho\\sigma\\xi - d_T(\\xi)}{\\kappa - \\mathrm{i}\\rho\\sigma\\xi + d_T(\\xi)},\n",
    "\\qquad \n",
    "d_T(\\xi) := \\sqrt{(\\kappa-\\mathrm{i}\\rho\\sigma\\xi)^2 + \\sigma^2(\\mathrm{i}\\xi+\\xi^2)}.\n",
    "\\end{align*}\n",
    "This characteristic function does not have any branch-cut problems"
   ]
  },
  {
   "cell_type": "markdown",
   "metadata": {},
   "source": [
    "### Important note:\n",
    "We use the one by Albrecher / Gatheral in order to avoid the branch cut problems."
   ]
  },
  {
   "cell_type": "markdown",
   "metadata": {},
   "source": [
    "# Black-Scholes formulae"
   ]
  },
  {
   "cell_type": "code",
   "execution_count": 2,
   "metadata": {},
   "outputs": [],
   "source": [
    "def phi(x): ## Gaussian density\n",
    "    return np.exp(-x*x/2.)/np.sqrt(2*np.pi)\n",
    "\n",
    "#### Black Sholes Vega\n",
    "def BlackScholesVegaCore(DF,F,X,T,v):\n",
    "    vsqrt=v*np.sqrt(T)\n",
    "    d1 = (np.log(F/X)+(vsqrt*vsqrt/2.))/vsqrt\n",
    "    return F*phi(d1)*np.sqrt(T)/DF\n",
    "\n",
    "#### Black Sholes Function\n",
    "def BlackScholesCore(CallPutFlag,DF,F,X,T,v):\n",
    "    ## DF: discount factor\n",
    "    ## F: Forward\n",
    "    ## X: strike\n",
    "    vsqrt=v*np.sqrt(T)\n",
    "    d1 = (np.log(F/X)+(vsqrt*vsqrt/2.))/vsqrt\n",
    "    d2 = d1-vsqrt\n",
    "    if CallPutFlag:\n",
    "        return DF*(F*norm.cdf(d1)-X*norm.cdf(d2))\n",
    "    else:\n",
    "        return DF*(X*norm.cdf(-d2)-F*norm.cdf(-d1))\n",
    "    \n",
    "##  Black-Scholes Pricing Function\n",
    "def BlackScholes(CallPutFlag,S,X,T,r,d,v):\n",
    "    ## r, d: continuous interest rate and dividend\n",
    "    return BlackScholesCore(CallPutFlag,np.exp(-r*T),np.exp((r-d)*T)*S,X,T,v)"
   ]
  },
  {
   "cell_type": "markdown",
   "metadata": {},
   "source": [
    "# Heston Pricing"
   ]
  },
  {
   "cell_type": "code",
   "execution_count": 3,
   "metadata": {
    "zanadu": {
     "code_type": "",
     "is_hidden": false
    }
   },
   "outputs": [],
   "source": [
    "def Heston_P_Value(hestonParams,r,T,s0,K,typ):\n",
    "    kappa, theta, sigma, rho, v0 = hestonParams\n",
    "    return 0.5+(1./np.pi)*quad(lambda xi: Int_Function_1(xi,kappa,theta, sigma,rho,v0,r,T,s0,K,typ),0.,500.)[0]\n",
    "\n",
    "def Int_Function_1(xi,kappa,theta,sigma,rho,v0,r,T,s0,K,typ):\n",
    "    return (cmath.e**(-1j*xi*np.log(K))*Int_Function_2(xi,kappa,theta,sigma,rho,v0,r,T,s0,typ)/(1j*xi)).real\n",
    "\n",
    "def Int_Function_2(xi,kappa,theta,sigma,rho,v0,r,T,s0,typ):\n",
    "    if typ == 1:\n",
    "        w = 1.\n",
    "        b = kappa - rho*sigma\n",
    "    else:\n",
    "        w = -1.\n",
    "        b = kappa\n",
    "    ixi = 1j*xi\n",
    "    d = cmath.sqrt((rho*sigma*ixi-b)*(rho*sigma*ixi-b) - sigma*sigma*(w*ixi-xi*xi))\n",
    "    g = (b-rho*sigma*ixi-d) / (b-rho*sigma*ixi+d)\n",
    "    ee = cmath.e**(-d*T)\n",
    "    C = r*ixi*T + kappa*theta/(sigma*sigma)*((b-rho*sigma*ixi-d)*T - 2.*cmath.log((1.0-g*ee)/(1.-g)))\n",
    "    D = ((b-rho*sigma*ixi-d)/(sigma*sigma))*(1.-ee)/(1.-g*ee)\n",
    "    return cmath.e**(C + D*v0 + ixi*np.log(s0))"
   ]
  },
  {
   "cell_type": "code",
   "execution_count": 4,
   "metadata": {
    "zanadu": {
     "code_type": "importable",
     "is_hidden": false
    }
   },
   "outputs": [],
   "source": [
    "def heston_EuropeanCall(hestonParams,r,T,s0,K):\n",
    "    a = s0*Heston_P_Value(hestonParams,r,T,s0,K,1)\n",
    "    b = K*np.exp(-r*T)*Heston_P_Value(hestonParams,r,T,s0,K,2)\n",
    "    return a-b\n",
    "\n",
    "def heston_Impliedvol(hestonParams,r,T,s0,K):\n",
    "    myPrice = heston_EuropeanCall(hestonParams,r,T,s0,K)\n",
    "    ## Bisection algorithm when the Lee-Li algorithm breaks down\n",
    "    def smileMin(vol, *args):\n",
    "        K, s0, T, r, price = args\n",
    "        return price - BlackScholes(True, s0, K, T, r, 0., vol)\n",
    "    vMin = 0.000001\n",
    "    vMax = 10.\n",
    "    return bisect(smileMin, vMin, vMax, args=(K, s0, T, r, myPrice), xtol=1e-20, rtol=1e-15, full_output=False, disp=True)"
   ]
  },
  {
   "cell_type": "markdown",
   "metadata": {
    "zanadu": {}
   },
   "source": [
    "## Example"
   ]
  },
  {
   "cell_type": "code",
   "execution_count": 6,
   "metadata": {
    "collapsed": false,
    "jupyter": {
     "outputs_hidden": false
    },
    "zanadu": {
     "code_type": ""
    }
   },
   "outputs": [],
   "source": [
    "v0,kappa,theta,sigma,rho = 0.1, 1., 0.25, 0.3, 0.\n",
    "hestonParams = kappa, theta, sigma, rho, v0 \n",
    "r, s0, K, T = 0., 1., 1., 3.\n",
    "\n",
    "logMoneynesses = np.linspace(-1.5, 1.5, 20)\n"
   ]
  },
  {
   "cell_type": "code",
   "execution_count": 8,
   "metadata": {
    "collapsed": false,
    "jupyter": {
     "outputs_hidden": false
    },
    "zanadu": {
     "code_type": ""
    }
   },
   "outputs": [
    {
     "data": {
      "image/png": "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\n",
      "text/plain": [
       "<Figure size 1008x576 with 2 Axes>"
      ]
     },
     "metadata": {
      "needs_background": "light"
     },
     "output_type": "display_data"
    }
   ],
   "source": [
    "calls = [heston_EuropeanCall(hestonParams,r,T,s0,s0*np.exp(x)) for x in logMoneynesses]\n",
    "ivs = [heston_Impliedvol(hestonParams,r,T,s0,s0*np.exp(x)) for x in logMoneynesses]\n",
    "\n",
    "fig = plt.figure(figsize=(14,8))\n",
    "plt.subplot(2, 2, 1)\n",
    "plt.plot(logMoneynesses, calls, 'b-', label=\"Params 1\", linewidth=2)\n",
    "plt.title(\"Heston Call prices\", fontsize=12, fontweight='bold')\n",
    "plt.xlabel(u'log-moneyness', fontsize=12)\n",
    "plt.legend(loc=1)\n",
    "plt.subplot(2, 2, 2)\n",
    "plt.plot(logMoneynesses, ivs, 'b-', label=\"Params 1\", linewidth=2)\n",
    "plt.title(\"Heston implied volatility\", fontsize=12, fontweight='bold')\n",
    "plt.xlabel(u'log-moneyness', fontsize=12)\n",
    "plt.legend(loc=1)\n",
    "plt.show()"
   ]
  }
 ],
 "metadata": {
  "kernelspec": {
   "display_name": "Python 3",
   "language": "python",
   "name": "python3"
  },
  "language_info": {
   "codemirror_mode": {
    "name": "ipython",
    "version": 3
   },
   "file_extension": ".py",
   "mimetype": "text/x-python",
   "name": "python",
   "nbconvert_exporter": "python",
   "pygments_lexer": "ipython3",
   "version": "3.7.6"
  },
  "zanadu": {
   "authors": [
    "Antoine Jacquier"
   ],
   "bibliography_data": {},
   "category": "1",
   "clearance": "Private",
   "group_name": "Imperial College",
   "md5": "07f6b295a5c962316fcbc0de5f5e04ba",
   "notebook_id": "4DCBABDF-C11F-4575-9C29-188E0A9A3F3D",
   "python_name": "heston",
   "reviewer_id": null,
   "status": "WIP"
  }
 },
 "nbformat": 4,
 "nbformat_minor": 4
}

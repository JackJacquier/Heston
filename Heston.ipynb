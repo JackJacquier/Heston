{
 "cells": [
  {
   "cell_type": "markdown",
   "metadata": {
    "zanadu": {}
   },
   "source": [
    "# Heston Pricing"
   ]
  },
  {
   "cell_type": "code",
   "execution_count": 16,
   "metadata": {
    "zanadu": {
     "code_type": "",
     "is_hidden": false
    }
   },
   "outputs": [],
   "source": [
    "from scipy.integrate import quad\n",
    "import cmath\n",
    "import numpy as np\n",
    "import matplotlib.pyplot as plt\n",
    "from math import isnan\n",
    "from scipy.optimize import bisect\n",
    "from scipy.stats import norm"
   ]
  },
  {
   "cell_type": "markdown",
   "metadata": {},
   "source": [
    "Recall the following option price formula for a European Call option with maturity $T$ and strike $K$:\n",
    "$$\n",
    "\\mathbb{E}\\left[S_T - \\mathrm{e}^{k}\\right]_+ = S_0\\left(\\frac{1}{2}+\\frac{1}{\\pi}\\int_{0}^{\\infty}\\Re\\left(\\frac{\\Phi_T(\\xi-\\mathrm{i})}{\\mathrm{i}\\xi\\Phi_T(-\\mathrm{i})}\n",
    " \\mathrm{e}^{-\\mathrm{i} k\\xi}\\right)\\mathrm{d} \\xi\\right) - K\\mathrm{e}^{-rT}\\left(\\frac{1}{2}+\\frac{1}{\\pi}\\int_{0}^{\\infty}\\Re\\left(\\frac{\\Phi_T(\\xi)}{\\mathrm{i}\\xi}\\mathrm{e}^{-\\mathrm{i} k\\xi}\\right)\\mathrm{d}\n",
    " \\xi\\right) =: S_0 \\Pi_1 - K\\mathrm{e}^{-rT}\\Pi_2\n",
    "$$\n",
    "where $\\Phi_T(\\xi):=\\mathbb{E}[S_T^{\\mathrm{i}\\xi}]$\n",
    "is the characteristic function of the log-stock price at time $T$.\n",
    "\n",
    "We shall use here the slightly-rewritten expression, $K:=S_0\\mathrm{e}^{k}$:\n",
    "$$\n",
    "\\mathbb{E}\\left[S_T - K\\right]_+ = S_0\\left(\\frac{1}{2}+\\frac{1}{\\pi}\\int_{0}^{\\infty}\\Re\\left(\\frac{\\Phi_T(\\xi-\\mathrm{i})}{\\mathrm{i}\\xi}\n",
    " \\mathrm{e}^{-\\mathrm{i} k\\xi}\\right)\\mathrm{d} \\xi\\right)- K\\mathrm{e}^{-rT}\\left(\\frac{1}{2}+\\frac{1}{\\pi}\\int_{0}^{\\infty}\\Re\\left(\\frac{\\Phi_T(\\xi)}{\\mathrm{i}\\xi}\\mathrm{e}^{-\\mathrm{i} k\\xi}\\right)\\mathrm{d}\n",
    " \\xi\\right) =: S_0 \\Pi_1 - K\\mathrm{e}^{-rT}\\Pi_2,\n",
    "$$"
   ]
  },
  {
   "cell_type": "markdown",
   "metadata": {},
   "source": [
    "### Characteristic function, as proposed by Heston"
   ]
  },
  {
   "cell_type": "markdown",
   "metadata": {},
   "source": [
    "$\\Phi_T(\\xi) = \\exp\\Big(C_T(\\xi) + D_T(\\xi)V_0 + \\mathrm{i}\\xi \\log(S_0)\\Big)$, where\n",
    "$$\n",
    "C_T(\\xi) : = \\mathrm{i}r\\xi T + \\frac{\\kappa\\theta}{\\sigma^2}\\left\\{\\left(\\kappa-\\mathrm{i}\\rho\\sigma\\xi+d_T(\\xi)\\right)T\n",
    "- 2\\log\\left(\\frac{1-\\gamma_T(\\xi)\\mathrm{e}^{d_T(\\xi)T}}{1-\\gamma_T(\\xi)}\\right)\\right\\},\n",
    "$$\n",
    "$$\n",
    "D_T(\\xi) : = \\frac{\\kappa - \\mathrm{i}\\rho\\sigma\\xi + d_T(\\xi)}{\\sigma^2}\n",
    "\\left(\\frac{1-\\mathrm{e}^{d_T(\\xi)T}}{1-\\gamma_T(\\xi)\\mathrm{e}^{d_T(\\xi)T}}\\right),\n",
    "$$\n",
    "$$\n",
    "\\gamma_T(\\xi) := \\frac{\\kappa-\\rho\\sigma - \\mathrm{i}\\rho\\sigma\\xi + d_T(\\xi)}\n",
    "{\\kappa-\\rho\\sigma - \\mathrm{i}\\rho\\sigma\\xi - d_T(\\xi)},\n",
    "\\qquad \n",
    "d_T(\\xi) := \\sqrt{(\\kappa-\\rho\\sigma-\\mathrm{i}\\rho\\sigma\\xi)^2 + \\sigma^2(\\mathrm{i}\\xi - \\xi^2)}.\n",
    "$$\n",
    "Note that this characteristic function may have branch-cut issues"
   ]
  },
  {
   "cell_type": "markdown",
   "metadata": {},
   "source": [
    "### Characteristic function used in Albrecher and Gatheral"
   ]
  },
  {
   "cell_type": "markdown",
   "metadata": {},
   "source": [
    "$\\Phi_T(\\xi) = \\exp\\Big(C_T(\\xi) + D_T(\\xi)V_0 + \\mathrm{i}\\xi \\log(S_0)\\Big)$, where\n",
    "$$\n",
    "C_T(\\xi) : = \\mathrm{i}r\\xi T + \\frac{\\kappa\\theta}{\\sigma^2}\\left\\{\\left(\\kappa-\\mathrm{i}\\rho\\sigma\\xi-d_T(\\xi)\\right)T\n",
    "- 2\\log\\left(\\frac{1-\\gamma_T(\\xi)\\mathrm{e}^{-d_T(\\xi)T}}{1-\\gamma_T(\\xi)}\\right)\\right\\},\n",
    "$$\n",
    "$$\n",
    "D_T(\\xi) : = \\frac{\\kappa - \\mathrm{i}\\rho\\sigma\\xi - d_T(\\xi)}{\\sigma^2}\n",
    "\\left(\\frac{1-\\mathrm{e}^{-d_T(\\xi)T}}{1-\\gamma_T(\\xi)\\mathrm{e}^{-d_T(\\xi)T}}\\right),\n",
    "$$\n",
    "$$\n",
    "\\gamma_T(\\xi) := \\frac{\\kappa - \\mathrm{i}\\rho\\sigma\\xi - d_T(\\xi)}{\\kappa - \\mathrm{i}\\rho\\sigma\\xi + d_T(\\xi)},\n",
    "\\qquad \n",
    "d_T(\\xi) := \\sqrt{(\\kappa-\\mathrm{i}\\rho\\sigma\\xi)^2 + \\sigma^2(\\mathrm{i}\\xi+\\xi^2)}.\n",
    "$$\n",
    "This characteristic function does not have any branch-cut problems"
   ]
  },
  {
   "cell_type": "markdown",
   "metadata": {},
   "source": [
    "### Important note:\n",
    "We use the one by Albrecher / Gatheral in order to avoid the branch cut problems."
   ]
  },
  {
   "cell_type": "markdown",
   "metadata": {},
   "source": [
    "# Black-Scholes formulae"
   ]
  },
  {
   "cell_type": "code",
   "execution_count": 86,
   "metadata": {},
   "outputs": [],
   "source": [
    "def phi(x): ## Gaussian density\n",
    "    return np.exp(-x*x/2.)/np.sqrt(2*np.pi)\n",
    "\n",
    "#### Black Sholes Vega\n",
    "def BlackScholesVegaCore(DF,F,X,T,v):\n",
    "    vsqrt=v*np.sqrt(T)\n",
    "    d1 = (np.log(F/X)+(vsqrt*vsqrt/2.))/vsqrt\n",
    "    return F*phi(d1)*np.sqrt(T)/DF\n",
    "\n",
    "#### Black Sholes Function\n",
    "def BlackScholesCore(CallPutFlag,DF,F,X,T,v):\n",
    "    ## DF: discount factor\n",
    "    ## F: Forward\n",
    "    ## X: strike\n",
    "    vsqrt=v*np.sqrt(T)\n",
    "    d1 = (np.log(F/X)+(vsqrt*vsqrt/2.))/vsqrt\n",
    "    d2 = d1-vsqrt\n",
    "    if CallPutFlag:\n",
    "        return DF*(F*norm.cdf(d1)-X*norm.cdf(d2))\n",
    "    else:\n",
    "        return DF*(X*norm.cdf(-d2)-F*norm.cdf(-d1))\n",
    "    \n",
    "##  Black-Scholes Pricing Function\n",
    "def BlackScholes(CallPutFlag,S,X,T,r,d,v):\n",
    "    ## r, d: continuous interest rate and dividend\n",
    "    return BlackScholesCore(CallPutFlag,np.exp(-r*T),np.exp((r-d)*T)*S,X,T,v)"
   ]
  },
  {
   "cell_type": "markdown",
   "metadata": {},
   "source": [
    "# Heston Pricing"
   ]
  },
  {
   "cell_type": "code",
   "execution_count": 87,
   "metadata": {
    "zanadu": {
     "code_type": "",
     "is_hidden": false
    }
   },
   "outputs": [],
   "source": [
    "def Heston_P_Value(hestonParams,r,T,s0,K,typ):\n",
    "    kappa, theta, sigma, rho, v0 = hestonParams\n",
    "    return 0.5+(1./np.pi)*quad(lambda xi: Int_Function_1(xi,kappa,theta, sigma,rho,v0,r,T,s0,K,typ),0.,500.)[0]\n",
    "\n",
    "def Int_Function_1(xi,kappa,theta,sigma,rho,v0,r,T,s0,K,typ):\n",
    "    return (cmath.e**(-1j*xi*np.log(K))*Int_Function_2(xi,kappa,theta,sigma,rho,v0,r,T,s0,typ)/(1j*xi)).real\n",
    "\n",
    "def Int_Function_2(xi,kappa,theta,sigma,rho,v0,r,T,s0,typ):\n",
    "    if typ == 1:\n",
    "        w = 1.\n",
    "        b = kappa - rho*sigma\n",
    "    else:\n",
    "        w = -1.\n",
    "        b = kappa\n",
    "    ixi = 1j*xi\n",
    "    d = cmath.sqrt((rho*sigma*ixi-b)*(rho*sigma*ixi-b) - sigma*sigma*(w*ixi-xi*xi))\n",
    "    g = (b-rho*sigma*ixi-d) / (b-rho*sigma*ixi+d)\n",
    "    ee = cmath.e**(-d*T)\n",
    "    C = r*ixi*T + kappa*theta/(sigma*sigma)*((b-rho*sigma*ixi-d)*T - 2.*cmath.log((1.0-g*ee)/(1.-g)))\n",
    "    D = ((b-rho*sigma*ixi-d)/(sigma*sigma))*(1.-ee)/(1.-g*ee)\n",
    "    return cmath.e**(C + D*v0 + ixi*np.log(s0))"
   ]
  },
  {
   "cell_type": "code",
   "execution_count": 88,
   "metadata": {
    "zanadu": {
     "code_type": "importable",
     "is_hidden": false
    }
   },
   "outputs": [],
   "source": [
    "def heston_EuropeanCall(hestonParams,r,T,s0,K):\n",
    "    a = s0*Heston_P_Value(hestonParams,r,T,s0,K,1)\n",
    "    b = K*np.exp(-r*T)*Heston_P_Value(hestonParams,r,T,s0,K,2)\n",
    "    return a-b\n",
    "\n",
    "def heston_Impliedvol(hestonParams,r,T,s0,K):\n",
    "    myPrice = heston_EuropeanCall(hestonParams,r,T,s0,K)\n",
    "    ## Bisection algorithm when the Lee-Li algorithm breaks down\n",
    "    def smileMin(vol, *args):\n",
    "        K, s0, T, r, price = args\n",
    "        return price - BlackScholes(True, s0, K, T, r, 0., vol)\n",
    "    vMin = 0.000001\n",
    "    vMax = 10.\n",
    "    return bisect(smileMin, vMin, vMax, args=(K, s0, T, r, myPrice), rtol=1e-15, full_output=False, disp=True)"
   ]
  },
  {
   "cell_type": "markdown",
   "metadata": {
    "zanadu": {}
   },
   "source": [
    "## Numerical Example"
   ]
  },
  {
   "cell_type": "code",
   "execution_count": 107,
   "metadata": {
    "jupyter": {
     "outputs_hidden": false
    },
    "zanadu": {
     "code_type": ""
    }
   },
   "outputs": [
    {
     "name": "stdout",
     "output_type": "stream",
     "text": [
      "Heston Call Price: 0.0175 \n",
      "Heston Implied volatility: 20.63%\n"
     ]
    }
   ],
   "source": [
    "# Heston parameters\n",
    "kappa = 4.1\n",
    "sigma = .3\n",
    "rho = -0.7\n",
    "v0 = 0.04\n",
    "theta = 0.06\n",
    "r = 0.\n",
    "s0 = 1.\n",
    "T = 0.4\n",
    "logMoneyness = 0.1\n",
    "\n",
    "hestonParams = kappa, theta, sigma, rho, v0 \n",
    "cp = heston_EuropeanCall(hestonParams,r,T,s0,s0*np.exp(logMoneyness))\n",
    "iv = heston_Impliedvol(hestonParams,r,T,s0,s0*np.exp(logMoneyness))\n",
    "print(\"Heston Call Price: %.4f \" %cp)\n",
    "print(\"Heston Implied volatility: %.2f%%\" %(100.*iv))"
   ]
  },
  {
   "cell_type": "code",
   "execution_count": 108,
   "metadata": {
    "jupyter": {
     "outputs_hidden": false
    },
    "zanadu": {
     "code_type": ""
    }
   },
   "outputs": [
    {
     "data": {
      "image/png": "[encoded data removed]",
      "text/plain": [
       "<Figure size 1008x576 with 2 Axes>"
      ]
     },
     "metadata": {
      "needs_background": "light"
     },
     "output_type": "display_data"
    }
   ],
   "source": [
    "logMoneynesses = np.linspace(-.5, .5, 20)\n",
    "\n",
    "calls = [heston_EuropeanCall(hestonParams,r,T,s0,s0*np.exp(x)) for x in logMoneynesses]\n",
    "ivs = [heston_Impliedvol(hestonParams,r,T,s0,s0*np.exp(x)) for x in logMoneynesses]\n",
    "\n",
    "fig = plt.figure(figsize=(14,8))\n",
    "plt.subplot(2, 2, 1)\n",
    "plt.plot(logMoneynesses, calls, 'b-', linewidth=2)\n",
    "plt.title(\"Heston Call prices\", fontsize=12, fontweight='bold')\n",
    "plt.xlabel(u'log-moneyness', fontsize=12)\n",
    "plt.subplot(2, 2, 2)\n",
    "plt.plot(logMoneynesses, ivs, 'b-', linewidth=2)\n",
    "plt.title(\"Heston implied volatility\", fontsize=12, fontweight='bold')\n",
    "plt.xlabel(u'log-moneyness', fontsize=12)\n",
    "plt.show()"
   ]
  }
 ],
 "metadata": {
  "kernelspec": {
   "display_name": "Python 3",
   "language": "python",
   "name": "python3"
  },
  "language_info": {
   "codemirror_mode": {
    "name": "ipython",
    "version": 3
   },
   "file_extension": ".py",
   "mimetype": "text/x-python",
   "name": "python",
   "nbconvert_exporter": "python",
   "pygments_lexer": "ipython3",
   "version": "3.7.6"
  },
  "zanadu": {
   "authors": [
    "Antoine Jacquier"
   ],
   "bibliography_data": {},
   "category": "1",
   "clearance": "Private",
   "group_name": "Imperial College",
   "md5": "07f6b295a5c962316fcbc0de5f5e04ba",
   "notebook_id": "4DCBABDF-C11F-4575-9C29-188E0A9A3F3D",
   "python_name": "heston",
   "reviewer_id": null,
   "status": "WIP"
  }
 },
 "nbformat": 4,
 "nbformat_minor": 4
}

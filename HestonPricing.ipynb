{
 "cells": [
  {
   "cell_type": "markdown",
   "metadata": {},
   "source": [
    "# European option pricing in the Heston model"
   ]
  },
  {
   "cell_type": "code",
   "execution_count": 5,
   "metadata": {
    "collapsed": false
   },
   "outputs": [],
   "source": [
    "from scipy.integrate import quad\n",
    "import cmath\n",
    "import numpy as np\n",
    "import matplotlib.pyplot as plt\n",
    "from math import isnan\n",
    "from scipy.optimize import bisect\n",
    "from scipy.stats import norm\n"
   ]
  },
  {
   "cell_type": "code",
   "execution_count": 8,
   "metadata": {
    "collapsed": true
   },
   "outputs": [],
   "source": [
    "#### Black Sholes Function\n",
    "def BlackScholes(CallPutFlag,S,X,T,r,d,v):\n",
    "    F, DF = np.exp((r-d)*T)*S, np.exp(-r*T)\n",
    "    vsq = v*np.sqrt(T)\n",
    "    try:\n",
    "        d1 = (np.log(F/X) + (0.5*vsq*vsq)) / vsq\n",
    "    except:\n",
    "        d1 = 0.\n",
    "    d2 = d1-vsqrt\n",
    "    if CallPutFlag:\n",
    "        return DF*(F*norm.cdf(d1)-X*norm.cdf(d2))\n",
    "    else:\n",
    "        return DF*(X*norm.cdf(-d2)-F*norm.cdf(-d1))"
   ]
  },
  {
   "cell_type": "code",
   "execution_count": 9,
   "metadata": {
    "collapsed": false
   },
   "outputs": [],
   "source": [
    "def Heston_P_Value(hestonParams,r,T,s0,K,typ):\n",
    "    kappa, theta, sigma, rho, v0 = hestonParams\n",
    "    return 0.5+(1./np.pi)*quad(lambda xi: Int_Function_1(xi,kappa,theta, sigma,rho,v0,r,T,s0,K,typ),0.,500.)[0]\n",
    "\n",
    "def Int_Function_1(xi,kappa,theta,sigma,rho,v0,r,T,s0,K,typ):\n",
    "    return (cmath.e**(-1j*xi*np.log(K))*Int_Function_2(xi,kappa,theta,sigma,rho,v0,r,T,s0,typ)/(1j*xi)).real\n",
    "\n",
    "def Int_Function_2(xi,kappa,theta,sigma,rho,v0,r,T,s0,typ):\n",
    "    if typ == 1:\n",
    "        w = 1.\n",
    "        b = kappa - rho*sigma\n",
    "    else:\n",
    "        w = -1.\n",
    "        b = kappa\n",
    "    ixi = 1j*xi\n",
    "    d = cmath.sqrt((rho*sigma*ixi-b)*(rho*sigma*ixi-b) - sigma*sigma*(w*ixi-xi*xi))\n",
    "    g = (b-rho*sigma*ixi-d) / (b-rho*sigma*ixi+d)\n",
    "    ee = cmath.e**(-d*T)\n",
    "    C = r*ixi*T + kappa*theta/(sigma*sigma)*((b-rho*sigma*ixi-d)*T - 2.*cmath.log((1.0-g*ee)/(1.-g)))\n",
    "    D = ((b-rho*sigma*ixi-d)/(sigma*sigma))*(1.-ee)/(1.-g*ee)\n",
    "    return cmath.e**(C + D*v0 + ixi*np.log(s0))\n",
    "\n",
    "def heston_EuropeanCall(hestonParams,r,T,s0,K):\n",
    "    a = s0*Heston_P_Value(hestonParams,r,T,s0,K,1)\n",
    "    b = K*np.exp(-r*T)*Heston_P_Value(hestonParams,r,T,s0,K,2)\n",
    "    return a-b\n",
    "\n",
    "def heston_Impliedvol(hestonParams,r,T,s0,K):\n",
    "    myPrice = heston_EuropeanCall(hestonParams,r,T,s0,K)\n",
    "    ## Bisection algorithm to compute the implied volatility\n",
    "    def smileMin(vol, *args):\n",
    "        K, s0, T, r, price = args\n",
    "        return price - BlackScholes(True,S,K,T,r,0.,vol)\n",
    "    vMin = 0.000001\n",
    "    vMax = 10.0\n",
    "    try:\n",
    "        iv = bisect(smileMin, vMin, vMax, args=(K, s0, T, r, myPrice), xtol=1e-20, rtol=1e-15, full_output=False, disp=True)\n",
    "    except:\n",
    "        iv = 0.\n",
    "    return iv"
   ]
  },
  {
   "cell_type": "markdown",
   "metadata": {},
   "source": [
    "## Numerical tests"
   ]
  },
  {
   "cell_type": "code",
   "execution_count": 13,
   "metadata": {
    "collapsed": true
   },
   "outputs": [],
   "source": [
    "hestonParams = 2.1, 0.05, 0.1, -0.99, 0.04\n",
    "hestonParams2 = 2.1, 0.05, 0.1, -0.4, 0.05\n",
    "r, s0, K, T = 0., 1., 0.5, 1.\n",
    "xx = np.linspace(-1., 1., 20) ## range of log-moneyness"
   ]
  },
  {
   "cell_type": "code",
   "execution_count": 14,
   "metadata": {
    "collapsed": false
   },
   "outputs": [
    {
     "data": {
      "image/png": "[encoded data removed]",
      "text/plain": [
       "<matplotlib.figure.Figure at 0x8146128>"
      ]
     },
     "metadata": {},
     "output_type": "display_data"
    }
   ],
   "source": [
    "calls = [heston_EuropeanCall(hestonParams,r,T,s0,s0*np.exp(x)) for x in xx]\n",
    "calls2 = [heston_EuropeanCall(hestonParams2,r,T,s0,s0*np.exp(x)) for x in xx]\n",
    "ivs = [heston_Impliedvol(hestonParams,r,T,s0,s0*np.exp(x)) for x in xx]\n",
    "ivs2 = [heston_Impliedvol(hestonParams2,r,T,s0,s0*np.exp(x)) for x in xx]\n",
    "\n",
    "fig = plt.figure(figsize=(14,8))\n",
    "plt.subplot(2, 2, 1)\n",
    "plt.plot(xx, calls, 'b-', label=\"Params 1\", linewidth=2)\n",
    "plt.plot(xx, calls2, 'r--', label=\"Params 2\", linewidth=2)\n",
    "plt.title(\"Heston Call prices\", fontsize=12, fontweight='bold')\n",
    "plt.xlabel(u'log-moneyness', fontsize=12)\n",
    "plt.legend(loc=1)\n",
    "\n",
    "plt.subplot(2, 2, 2)\n",
    "plt.plot(xx, ivs, 'b-', label=\"Params 1\", linewidth=2)\n",
    "plt.plot(xx, ivs2, 'r--', label=\"Params 2\", linewidth=2)\n",
    "plt.title(\"Heston implied volatility\", fontsize=12, fontweight='bold')\n",
    "plt.xlabel(u'log-moneyness', fontsize=12)\n",
    "plt.legend(loc=1)\n",
    "plt.show()"
   ]
  },
  {
   "cell_type": "code",
   "execution_count": 12,
   "metadata": {
    "collapsed": true
   },
   "outputs": [],
   "source": [
    "StrikeNum, MaturityNum = 20, 20\n",
    "r, S0, alpha = 0.0, 1., 1.25\n",
    "hestonParams = 2.1, 0.05, 0.1, -0.2, 0.04\n",
    "\n",
    "XX = np.linspace(np.exp(-1.), np.exp(1.), StrikeNum)      ###Strikes\n",
    "YY = np.linspace(0.5, 2., MaturityNum)    ###Maturities"
   ]
  },
  {
   "cell_type": "code",
   "execution_count": null,
   "metadata": {
    "collapsed": true
   },
   "outputs": [],
   "source": []
  }
 ],
 "metadata": {
  "kernelspec": {
   "display_name": "Python 3",
   "language": "python",
   "name": "python3"
  },
  "language_info": {
   "codemirror_mode": {
    "name": "ipython",
    "version": 3
   },
   "file_extension": ".py",
   "mimetype": "text/x-python",
   "name": "python",
   "nbconvert_exporter": "python",
   "pygments_lexer": "ipython3",
   "version": "3.6.0"
  }
 },
 "nbformat": 4,
 "nbformat_minor": 2
}

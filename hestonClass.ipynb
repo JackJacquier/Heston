{
 "cells": [
  {
   "cell_type": "markdown",
   "metadata": {},
   "source": [
    "Option Pricing and implied volatility in the rough Heston model\n",
    "---"
   ]
  },
  {
   "cell_type": "code",
   "execution_count": 88,
   "metadata": {},
   "outputs": [],
   "source": [
    "import numpy as np\n",
    "from scipy.stats import norm\n",
    "import matplotlib.pyplot as plt\n",
    "from scipy.optimize import bisect\n",
    "from scipy.special import gamma\n",
    "from scipy.integrate import quad, trapz\n",
    "import pandas as pd"
   ]
  },
  {
   "cell_type": "markdown",
   "metadata": {},
   "source": [
    "The Black-Scholes class\n",
    "--"
   ]
  },
  {
   "cell_type": "markdown",
   "metadata": {},
   "source": [
    "The Black-Scholes model assumes the dynamics\n",
    "$$\n",
    "\\mathrm{d} S_t = S_t\\Big(r\\mathrm{d}t + \\sigma \\mathrm{d}W_t\\Big),\n",
    "$$\n",
    "for a stock price process $(S_t)_{t\\geq 0}$ starting from $S_0>0$, where $r\\in\\mathbb{R}$ is the instantaneous risk-free rate, $\\sigma>0$ the instantaneous volatility, and $(W_t)_{t\\geq 0}$ a standard Brownian motion.\n",
    "The price of a European Call or Put option, with strike $K>0$ and maturity $T>0$ is equal to\n",
    "$$\n",
    "\\mathbb{E}\\Big[\\left(\\varphi(S_T-K)\\right)_+\\Big] = \n",
    "\\varphi\\left\\{S_0\\mathcal{N}(\\varphi d_+) - K\\mathrm{e}^{-rT}\\mathcal{N}(\\varphi d_-)\\right\\},\n",
    "$$\n",
    "where $\\mathcal{N}$ denotes the Gaussian cumulative distribution function and \n",
    "$$\n",
    "d_{\\pm}:=\\left[\\log\\left(\\frac{S_0}{K}\\right) + \\left(r\\pm\\frac{1}{2}\\sigma^2T\\right)\\right] / (\\sigma\\sqrt{T}),\n",
    "$$\n",
    "and $\\varphi=1$ in the case of a Call option and $\\varphi=-1$ in the case of a Put option."
   ]
  },
  {
   "cell_type": "code",
   "execution_count": 62,
   "metadata": {},
   "outputs": [],
   "source": [
    "def BlackScholesCallPut(S, K, T, sigma, r, call_put=1):\n",
    "    d1 = (np.log(S/K) + (r+.5*sigma**2)*T) / (sigma * np.sqrt(T))\n",
    "    d2 = d1 - sigma * np.sqrt(T)\n",
    "    return call_put*(S*norm.cdf(call_put*d1) - K*np.exp (-r*T) * norm.cdf (call_put*d2))\n",
    "\n",
    "def impliedVol(S, K, T, r, price):\n",
    "    def smileMin(vol, *args):\n",
    "        S, K, T, r, price = args\n",
    "        return price - BlackScholesCallPut(S, K, T, vol, r, 1)\n",
    "    vMin = 0.0001\n",
    "    vMax = 3.\n",
    "    return bisect(smileMin, vMin, vMax, args=(S, K, T, r, price), rtol=1e-15, full_output=False, disp=True)"
   ]
  },
  {
   "cell_type": "markdown",
   "metadata": {},
   "source": [
    "The rough Heston class\n",
    "--"
   ]
  },
  {
   "cell_type": "markdown",
   "metadata": {},
   "source": [
    "In the rough Heston model, the stock price satisfies $\\mathrm{d} S_t = S_t \\sqrt{V_t} \\mathrm{d} W_t$,\n",
    "where\n",
    "$$V_t  = V_0 +   \\frac{1}{\\Gamma(\\alpha)}\\int_0^t  (t-s)^{\\alpha-1} \\left[\\kappa(\\theta - V_s) \\mathrm{d} s + \\nu\\sqrt{V_s} \\mathrm{d} Z_s\\right],\n",
    "$$\n",
    "and the two Brownian motions are correlated as $\\mathrm{d} \\langle W, Z\\rangle_t = \\rho\\, \\mathrm{d} t$,\n",
    "for $\\alpha \\in \\left(\\frac{1}{2},1\\right)$, with $S_0,V_0>0$, and $W, Z$ are two correlated Brownian motions."
   ]
  },
  {
   "cell_type": "code",
   "execution_count": 80,
   "metadata": {},
   "outputs": [],
   "source": [
    "class roughHeston:\n",
    "    \n",
    "    def __init__(self, nbTimeSteps, heston_params, T):\n",
    "        # Time discretisation parameters\n",
    "        self.T = T\n",
    "        self.n = nbTimeSteps\n",
    "        self.dt = self.T / self.n\n",
    "        self.time_grid = np.linspace(0., T, self.n + 1)\n",
    "\n",
    "        # Heston model paramters\n",
    "        self.S0 = heston_params['S0']\n",
    "        self.kappa = heston_params['kappa']\n",
    "        self.nu = heston_params['nu']\n",
    "        self.theta = heston_params['theta']\n",
    "        self.alpha = heston_params['alpha']\n",
    "        self.V0 = heston_params['V0']\n",
    "        self.rho = heston_params['rho']\n",
    "\n",
    "        # Precomputations to speed up pricing\n",
    "        self.frac = self.dt**self.alpha / gamma(self.alpha + 2.)\n",
    "        self.frac2 = self.dt**self.alpha / gamma(self.alpha + 1.)\n",
    "        self.frac_bar = 1. / gamma(1.-self.alpha)\n",
    "        self.fill_a()\n",
    "        self.fill_b()\n",
    "\n",
    "    # Fractional Riccati equation\n",
    "    def F(self, a, x):\n",
    "        return -0.5*(a*a + 1j *a) - (self.kappa - 1j*a*self.rho*self.nu)*x + 0.5*self.nu*self.nu*x*x\n",
    "\n",
    "    # Filling the coefficient a and b which don't depend on the characteristic function\n",
    "    def a(self, j, k):\n",
    "        if j == 0:\n",
    "            res = ((k - 1)**(self.alpha + 1) - (k - self.alpha - 1)*k**self.alpha)\n",
    "        elif j == k:\n",
    "            res = 1.\n",
    "        else:\n",
    "            res = ((k + 1 - j)**(self.alpha + 1) + (k - 1 - j)**(self.alpha + 1) - 2 * (k - j)**(self.alpha + 1))\n",
    "\n",
    "        return self.frac*res\n",
    "\n",
    "    def fill_a(self):\n",
    "        self.a_ = np.zeros(shape = (self.n + 1, self.n + 1))\n",
    "        for k in range(1, self.n + 1):\n",
    "            for j in range(k + 1):\n",
    "                self.a_[j, k] = self.a(j, k)\n",
    "\n",
    "    def b(self, j, k):\n",
    "        return self.frac2*((k - j)**self.alpha - (k - j - 1)**self.alpha)\n",
    "\n",
    "    def fill_b(self):\n",
    "        self.b_ = np.zeros(shape = (self.n, self.n + 1))\n",
    "        for k in range(1, self.n + 1):\n",
    "            for j in range(k):\n",
    "                self.b_[j, k] = self.b(j, k)\n",
    "\n",
    "    # Computation of two sums used in the scheme\n",
    "    def h_P(self, a, k):\n",
    "        res = 0\n",
    "        for j in range(k):\n",
    "            res += self.b_[j, k] * self.F(a, self.h_hat[j])\n",
    "        return res\n",
    "\n",
    "    def sum_a(self, a, k):\n",
    "        res = 0\n",
    "        for j in range(k):\n",
    "            res += self.a_[j, k] * self.F(a, self.h_hat[j])\n",
    "        return res\n",
    "\n",
    "    # Solving function h for each time step\n",
    "    def fill_h(self, a):\n",
    "        self.h_hat = np.zeros((self.n + 1), dtype=complex)\n",
    "        for k in range(1, self.n + 1):\n",
    "            h_P = self.h_P(a, k)\n",
    "            sum_a = self.sum_a(a, k)\n",
    "            self.h_hat[k] = sum_a + self.a_[k, k]*self.F(a, h_P)\n",
    "\n",
    "    # Characteristic function computation\n",
    "    def rHeston_char_function(self, a):\n",
    "        # Filling the h function\n",
    "        self.fill_h(a)\n",
    "\n",
    "        # Standard integral of the h function\n",
    "        integral = trapz(self.h_hat, self.time_grid)\n",
    "\n",
    "        # Fractional integral of the h function\n",
    "        func = lambda s: (self.T - s)**(1. - self.alpha)\n",
    "        y = np.fromiter((((func(self.time_grid[i]) - func(self.time_grid[i+1]))*self.h_hat[i]) for i in range(self.n)), self.h_hat.dtype)\n",
    "        frac_integral = self.frac_bar * np.sum(y) / (1.-self.alpha)\n",
    "\n",
    "        # Characteristic function\n",
    "        return np.exp(self.kappa*self.theta*integral + self.V0*frac_integral)\n",
    "\n",
    "    # Pricing with an inverse Fourier transform\n",
    "    def rHeston_Call(self, k, upLim):\n",
    "        K = self.S0*np.exp(k)\n",
    "        func = lambda u: np.real(np.exp(-1j*u*k)*self.rHeston_char_function(u-0.5*1j)) / (u**2 + 0.25)\n",
    "        integ = quad(func, 0, 5.)\n",
    "        return self.S0 - np.sqrt(self.S0*K) * integ[0] / np.pi\n",
    "\n",
    "    # Analytical formula for the standard Heston characteristic function\n",
    "    def heston_char_function(self,u):\n",
    "        nu2 = self.nu**2\n",
    "        T = self.T\n",
    "        dif = self.kappa - self.rho*self.nu*u*1j\n",
    "        d = np.sqrt(dif**2 + nu2 *(1j*u + u**2))\n",
    "        g = (dif - d) / (dif + d)\n",
    "        return np.exp(1j*u*(np.log(self.S0)))\\\n",
    "               *np.exp((self.kappa*self.theta/nu2) * ((dif-d)*T - 2.*np.log((1. - g*np.exp(-d*T))/(1.-g))))\\\n",
    "               *np.exp((self.V0/nu2) * (dif-d)*(1.-np.exp(-d*T))/(1-g*np.exp(-d*T)))\n",
    "\n",
    "    # Pricing with an inverse Fourier transform\n",
    "    def heston_Call(self, k):\n",
    "        K = self.S0 * np.exp(k)\n",
    "        func = lambda u: np.real(np.exp(-1j*u*k) * self.heston_char_function(u-0.5*1j)) / (u**2+0.25)\n",
    "        integ = quad(func, 0, np.inf)\n",
    "        return self.S0 - np.sqrt(self.S0*K) * integ[0] / np.pi"
   ]
  },
  {
   "cell_type": "code",
   "execution_count": 84,
   "metadata": {},
   "outputs": [],
   "source": [
    "# Heston parameters\n",
    "kappa = .3\n",
    "nu = .3\n",
    "rho = -.7\n",
    "V0 = .02\n",
    "theta = .02\n",
    "S0 = 1.\n",
    "T = 1.\n",
    "\n",
    "alpha=0.6"
   ]
  },
  {
   "cell_type": "code",
   "execution_count": 86,
   "metadata": {},
   "outputs": [
    {
     "name": "stdout",
     "output_type": "stream",
     "text": [
      "0.11739107088078282 0.12816277845415347\n",
      "Heston option price and implied volatility: 0.1174 0.1523 0.1174\n",
      "rough Heston option price and implied volatility: 0.1282 0.1863 0.1282\n"
     ]
    }
   ],
   "source": [
    "nbTimeSteps, upLim = 100, 5.\n",
    "\n",
    "heston_params = {'kappa': kappa, 'nu': nu, 'alpha': alpha, 'rho': rho, 'V0': V0, 'theta': theta, 'S0': S0}\n",
    "logmoneyness = -0.1\n",
    "K = S0*np.exp(logmoneyness)\n",
    "he = roughHeston(nbTimeSteps, heston_params, T)\n",
    "p = he.heston_Call(logmoneyness)\n",
    "rp = he.rHeston_Call(logmoneyness, upLim)\n",
    "riv = impliedVol(S0, K, T, 0., rp)\n",
    "iv = impliedVol(S0, K, T, 0., p)\n",
    "\n",
    "nbDec = 4\n",
    "print(\"Heston option price and implied volatility:\", np.round(p,nbDec), np.round(iv,nbDec), np.round(BlackScholesCallPut(S0,K,T,iv,0.,1), nbDec))\n",
    "print(\"rough Heston option price and implied volatility:\", np.round(rp,nbDec), np.round(riv,nbDec), np.round(BlackScholesCallPut(S0,K,T,riv,0.,1), nbDec))"
   ]
  },
  {
   "cell_type": "code",
   "execution_count": 91,
   "metadata": {},
   "outputs": [
    {
     "data": {
      "text/html": [
       "<div>\n",
       "<style scoped>\n",
       "    .dataframe tbody tr th:only-of-type {\n",
       "        vertical-align: middle;\n",
       "    }\n",
       "\n",
       "    .dataframe tbody tr th {\n",
       "        vertical-align: top;\n",
       "    }\n",
       "\n",
       "    .dataframe thead th {\n",
       "        text-align: right;\n",
       "    }\n",
       "</style>\n",
       "<table border=\"1\" class=\"dataframe\">\n",
       "  <thead>\n",
       "    <tr style=\"text-align: right;\">\n",
       "      <th></th>\n",
       "      <th>Heston</th>\n",
       "      <th>rough Heston</th>\n",
       "    </tr>\n",
       "  </thead>\n",
       "  <tbody>\n",
       "    <tr>\n",
       "      <th>Call Price</th>\n",
       "      <td>0.2</td>\n",
       "      <td>0.1</td>\n",
       "    </tr>\n",
       "    <tr>\n",
       "      <th>implied vol</th>\n",
       "      <td>0.3</td>\n",
       "      <td>0.2</td>\n",
       "    </tr>\n",
       "  </tbody>\n",
       "</table>\n",
       "</div>"
      ],
      "text/plain": [
       "             Heston  rough Heston\n",
       "Call Price      0.2           0.1\n",
       "implied vol     0.3           0.2"
      ]
     },
     "execution_count": 91,
     "metadata": {},
     "output_type": "execute_result"
    }
   ],
   "source": [
    "data = {'Heston':  [0.2, 0.3],\n",
    "        'rough Heston': [0.1, 0.2]}\n",
    "\n",
    "df = pd.DataFrame(data, index=[\"Call Price\", \"implied vol\"])\n",
    "df"
   ]
  },
  {
   "cell_type": "code",
   "execution_count": null,
   "metadata": {},
   "outputs": [],
   "source": []
  }
 ],
 "metadata": {
  "kernelspec": {
   "display_name": "Python 3",
   "language": "python",
   "name": "python3"
  },
  "language_info": {
   "codemirror_mode": {
    "name": "ipython",
    "version": 3
   },
   "file_extension": ".py",
   "mimetype": "text/x-python",
   "name": "python",
   "nbconvert_exporter": "python",
   "pygments_lexer": "ipython3",
   "version": "3.7.6"
  }
 },
 "nbformat": 4,
 "nbformat_minor": 4
}
